{
  "nbformat": 4,
  "nbformat_minor": 0,
  "metadata": {
    "colab": {
      "provenance": [],
      "toc_visible": true,
      "authorship_tag": "ABX9TyMPnys9mTkfRjkFB01AXWZO",
      "include_colab_link": true
    },
    "kernelspec": {
      "name": "python3",
      "display_name": "Python 3"
    },
    "language_info": {
      "name": "python"
    }
  },
  "cells": [
    {
      "cell_type": "markdown",
      "metadata": {
        "id": "view-in-github",
        "colab_type": "text"
      },
      "source": [
        "<a href=\"https://colab.research.google.com/github/BHAGYA938/numpy/blob/main/numpy.ipynb\" target=\"_parent\"><img src=\"https://colab.research.google.com/assets/colab-badge.svg\" alt=\"Open In Colab\"/></a>"
      ]
    },
    {
      "cell_type": "markdown",
      "source": [
        "# matrix using numpy\n"
      ],
      "metadata": {
        "id": "K6q6hdqsFHpK"
      }
    },
    {
      "cell_type": "code",
      "source": [
        "import numpy as np #numerical python\n",
        "\n",
        "#array - collection of homogeneous data.\n",
        "a=np.array([1,2,3,5,4])\n",
        "print(a)\n",
        "print(a.ndim)        # if dim =1---> vector         ndim used to find the dimension\n",
        "\n",
        "c=np.array([[1,2],[3,4]])\n",
        "print(c)\n",
        "print(c.ndim)        # if dim=2---> matrix\n",
        "                     #if dim=3----> tensor\n",
        "\n",
        "\n",
        "print(c.shape)      # shape is used to find the size\n",
        "\n",
        "print(c.size)       #to find the total no of elements"
      ],
      "metadata": {
        "colab": {
          "base_uri": "https://localhost:8080/"
        },
        "id": "rirK7aBMFUDJ",
        "outputId": "c4f4f37c-6b6a-4638-c2a5-e04511e89720"
      },
      "execution_count": null,
      "outputs": [
        {
          "output_type": "stream",
          "name": "stdout",
          "text": [
            "[1 2 3 5 4]\n",
            "1\n",
            "[[1 2]\n",
            " [3 4]]\n",
            "2\n",
            "(2, 2)\n",
            "4\n"
          ]
        }
      ]
    },
    {
      "cell_type": "code",
      "source": [
        "#forward slicing and backward slicing applicable\n",
        "import numpy as np\n",
        "\n",
        "b=np.array([1,2,3,4,5])\n",
        "\n",
        "print(b[0:2])\n",
        "print(b[5:2:-1])\n",
        "print(b[3::])\n",
        "print(b[1::-1])\n"
      ],
      "metadata": {
        "colab": {
          "base_uri": "https://localhost:8080/"
        },
        "id": "tOvPJoPLHUBc",
        "outputId": "ec702c19-eafa-4e0d-dbe7-a8b187c051da"
      },
      "execution_count": null,
      "outputs": [
        {
          "output_type": "stream",
          "name": "stdout",
          "text": [
            "[1 2]\n",
            "[5 4]\n",
            "[4 5]\n",
            "[2 1]\n"
          ]
        }
      ]
    },
    {
      "cell_type": "code",
      "source": [
        "#create a 2x2 matric\n",
        "\n",
        "\n",
        "import numpy as np\n",
        "a=np.array([[2,3],[4,5]])\n",
        "print(a)\n",
        "print(a.shape)\n",
        "print(a.ndim)\n",
        "print(a.size)"
      ],
      "metadata": {
        "colab": {
          "base_uri": "https://localhost:8080/"
        },
        "id": "U6jdpMp5Ke7c",
        "outputId": "5d884b21-a664-4533-c995-82eb3e71ef99"
      },
      "execution_count": null,
      "outputs": [
        {
          "output_type": "stream",
          "name": "stdout",
          "text": [
            "[[2 3]\n",
            " [4 5]]\n",
            "(2, 2)\n",
            "2\n",
            "4\n"
          ]
        }
      ]
    },
    {
      "cell_type": "code",
      "source": [
        "#create a 2x3 print the matrix,size,shape,dimension\n",
        "\n",
        "\n",
        "import numpy as np\n",
        "s=np.array([[1,2,3],[3,4,5]])\n",
        "\n",
        "print(s)\n",
        "print(s.ndim)\n",
        "print(s.size)\n",
        "print(s.shape)"
      ],
      "metadata": {
        "colab": {
          "base_uri": "https://localhost:8080/"
        },
        "id": "1tld1M7XLb5O",
        "outputId": "dcc10c83-072c-4b45-d7d2-6d6787a5fdf9"
      },
      "execution_count": null,
      "outputs": [
        {
          "output_type": "stream",
          "name": "stdout",
          "text": [
            "[[1 2 3]\n",
            " [3 4 5]]\n",
            "2\n",
            "6\n",
            "(2, 3)\n"
          ]
        }
      ]
    },
    {
      "cell_type": "code",
      "source": [
        "#create a 4x2 matrix\n",
        "\n",
        "\n",
        "d=np.array([[1,2],[3,4],[6,7],[5,8]])\n",
        "print(d)\n",
        "print(d.size)\n",
        "print(d.shape)\n",
        "print(d.ndim)"
      ],
      "metadata": {
        "colab": {
          "base_uri": "https://localhost:8080/"
        },
        "id": "qypiOAAKMVUN",
        "outputId": "daa1c796-eae9-4e89-b997-f9e622f04b46"
      },
      "execution_count": null,
      "outputs": [
        {
          "output_type": "stream",
          "name": "stdout",
          "text": [
            "[[1 2]\n",
            " [3 4]\n",
            " [6 7]\n",
            " [5 8]]\n",
            "8\n",
            "(4, 2)\n",
            "2\n"
          ]
        }
      ]
    },
    {
      "cell_type": "code",
      "source": [
        "#create a 4x4\n",
        "\n",
        "import numpy as np\n",
        "d=np.array([[1,2,3,4],[3,4,8,9],[6,7,1,2],[5,8,4,5]])\n",
        "print(d)\n",
        "print(d.size)\n",
        "print(d.shape)\n",
        "print(d.ndim)\n",
        "print(d[0])\n",
        "print(d[:,3])      #syntax as [row,column]\n",
        "\n",
        "print(d[1,1])\n",
        "print(d[3,2:])\n",
        "print(d[2:,2:])\n",
        "print(d.reshape(8,2))"
      ],
      "metadata": {
        "colab": {
          "base_uri": "https://localhost:8080/"
        },
        "id": "apjbf_McNYxr",
        "outputId": "603451b3-c3d1-4915-c353-f8761c1857de"
      },
      "execution_count": null,
      "outputs": [
        {
          "output_type": "stream",
          "name": "stdout",
          "text": [
            "[[1 2 3 4]\n",
            " [3 4 8 9]\n",
            " [6 7 1 2]\n",
            " [5 8 4 5]]\n",
            "16\n",
            "(4, 4)\n",
            "2\n",
            "[1 2 3 4]\n",
            "[4 9 2 5]\n",
            "4\n",
            "[4 5]\n",
            "[[1 2]\n",
            " [4 5]]\n",
            "[[1 2]\n",
            " [3 4]\n",
            " [3 4]\n",
            " [8 9]\n",
            " [6 7]\n",
            " [1 2]\n",
            " [5 8]\n",
            " [4 5]]\n"
          ]
        }
      ]
    },
    {
      "cell_type": "code",
      "source": [
        "#zero matrix\n",
        "\n",
        "import numpy as np\n",
        "a=np.zeros([3,3,3],dtype=int)   #by default float.\n",
        "#dtype=complex------> a+ib\n",
        "print(a)"
      ],
      "metadata": {
        "colab": {
          "base_uri": "https://localhost:8080/"
        },
        "id": "IT1iTkXhFWEO",
        "outputId": "04dbc0ff-190d-4eb4-fdb2-a70b9dd5f71b"
      },
      "execution_count": null,
      "outputs": [
        {
          "output_type": "stream",
          "name": "stdout",
          "text": [
            "[[[0 0 0]\n",
            "  [0 0 0]\n",
            "  [0 0 0]]\n",
            "\n",
            " [[0 0 0]\n",
            "  [0 0 0]\n",
            "  [0 0 0]]\n",
            "\n",
            " [[0 0 0]\n",
            "  [0 0 0]\n",
            "  [0 0 0]]]\n"
          ]
        }
      ]
    },
    {
      "cell_type": "code",
      "source": [
        "#one matrix\n",
        "\n",
        "import numpy as np\n",
        "a=np.ones([3,3],dtype=int)\n",
        "print(a)"
      ],
      "metadata": {
        "colab": {
          "base_uri": "https://localhost:8080/"
        },
        "id": "RfJzHS6aKeqf",
        "outputId": "7eb8690e-2123-4dfe-9f28-84b6761a340f"
      },
      "execution_count": null,
      "outputs": [
        {
          "output_type": "stream",
          "name": "stdout",
          "text": [
            "[[1 1 1]\n",
            " [1 1 1]\n",
            " [1 1 1]]\n"
          ]
        }
      ]
    },
    {
      "cell_type": "code",
      "source": [
        "#create 2 2x2 matrix\n",
        "\n",
        "import numpy as np\n",
        "f=np.array([[1,2],[2,4]])\n",
        "g=np.array([[3,4],[6,8]])\n",
        "print(f)\n",
        "print(g)"
      ],
      "metadata": {
        "colab": {
          "base_uri": "https://localhost:8080/"
        },
        "id": "b-z3PG9IKwBB",
        "outputId": "24711939-61ee-430e-d95b-716b4a9b1512"
      },
      "execution_count": null,
      "outputs": [
        {
          "output_type": "stream",
          "name": "stdout",
          "text": [
            "[[1 2]\n",
            " [2 4]]\n",
            "[[3 4]\n",
            " [6 8]]\n"
          ]
        }
      ]
    },
    {
      "cell_type": "markdown",
      "source": [
        "# matrix operations"
      ],
      "metadata": {
        "id": "G3OriF2yLSMt"
      }
    },
    {
      "cell_type": "code",
      "source": [
        "#matrix addition\n",
        "print(f+g)"
      ],
      "metadata": {
        "colab": {
          "base_uri": "https://localhost:8080/"
        },
        "id": "3Weh4d8bLbJv",
        "outputId": "58166935-617b-4b8f-92b2-ca3cfd8f0260"
      },
      "execution_count": null,
      "outputs": [
        {
          "output_type": "stream",
          "name": "stdout",
          "text": [
            "[[ 4  6]\n",
            " [ 8 12]]\n"
          ]
        }
      ]
    },
    {
      "cell_type": "code",
      "source": [
        "#matrix substraction\n",
        "\n",
        "print(f-g)"
      ],
      "metadata": {
        "colab": {
          "base_uri": "https://localhost:8080/"
        },
        "id": "0FysEL7BLsTS",
        "outputId": "bfbaa413-d9cc-41eb-bee6-a938475bb72a"
      },
      "execution_count": null,
      "outputs": [
        {
          "output_type": "stream",
          "name": "stdout",
          "text": [
            "[[-2 -2]\n",
            " [-4 -4]]\n"
          ]
        }
      ]
    },
    {
      "cell_type": "code",
      "source": [
        "#matrix multiplication\n",
        "\n",
        "print(f*g)  # not matrix multiplication\n",
        "\n",
        "print()\n",
        "\n",
        "print(f.dot(g)) # or print(f@g)"
      ],
      "metadata": {
        "colab": {
          "base_uri": "https://localhost:8080/"
        },
        "id": "Xp56USgWL8X2",
        "outputId": "5d391b74-02ae-4d3a-cb9d-741ebc5db47b"
      },
      "execution_count": null,
      "outputs": [
        {
          "output_type": "stream",
          "name": "stdout",
          "text": [
            "[[ 3  8]\n",
            " [12 32]]\n",
            "\n",
            "[[15 20]\n",
            " [30 40]]\n"
          ]
        }
      ]
    },
    {
      "cell_type": "code",
      "source": [
        "#matrix division\n",
        "\n",
        "print(f/g)"
      ],
      "metadata": {
        "colab": {
          "base_uri": "https://localhost:8080/"
        },
        "id": "JQLHOdqENMs3",
        "outputId": "c7d89f02-3a1a-4c72-90f4-53215d736145"
      },
      "execution_count": null,
      "outputs": [
        {
          "output_type": "stream",
          "name": "stdout",
          "text": [
            "[[0.33333333 0.5       ]\n",
            " [0.33333333 0.5       ]]\n"
          ]
        }
      ]
    },
    {
      "cell_type": "markdown",
      "source": [
        "terms that starts with __ are called magic ... __add__,__sub__"
      ],
      "metadata": {
        "id": "elBdeLwONbE4"
      }
    },
    {
      "cell_type": "code",
      "source": [
        "#full matrix---if all elements are same\n",
        "\n",
        "\n",
        "import numpy as np\n",
        "a=np.full([3,3],7,dtype=int)\n",
        "print(a)"
      ],
      "metadata": {
        "colab": {
          "base_uri": "https://localhost:8080/"
        },
        "id": "fsextG78Nzoj",
        "outputId": "715babbb-b06c-418b-b8fb-4e8d13db835a"
      },
      "execution_count": null,
      "outputs": [
        {
          "output_type": "stream",
          "name": "stdout",
          "text": [
            "[[7 7 7]\n",
            " [7 7 7]\n",
            " [7 7 7]]\n"
          ]
        }
      ]
    },
    {
      "cell_type": "code",
      "source": [
        "#create 3x3 matix with value 9 and datatype complex\n",
        "\n",
        "\n",
        "z=np.full([3,3],9,dtype=complex)\n",
        "print(z)"
      ],
      "metadata": {
        "colab": {
          "base_uri": "https://localhost:8080/"
        },
        "id": "FARZBZCEOZub",
        "outputId": "aef29120-02fc-49ed-f547-c03d39b09744"
      },
      "execution_count": null,
      "outputs": [
        {
          "output_type": "stream",
          "name": "stdout",
          "text": [
            "[[9.+0.j 9.+0.j 9.+0.j]\n",
            " [9.+0.j 9.+0.j 9.+0.j]\n",
            " [9.+0.j 9.+0.j 9.+0.j]]\n"
          ]
        }
      ]
    },
    {
      "cell_type": "code",
      "source": [
        "i=np.identity(3,dtype=int)\n",
        "print(i)\n",
        "\n",
        "print()\n",
        "\n",
        "j=np.eye(3,dtype=int)\n",
        "print(j)"
      ],
      "metadata": {
        "colab": {
          "base_uri": "https://localhost:8080/"
        },
        "id": "B1JZbU2nOzPN",
        "outputId": "a68da75b-dee7-45f6-eeac-36fed7899d90"
      },
      "execution_count": null,
      "outputs": [
        {
          "output_type": "stream",
          "name": "stdout",
          "text": [
            "[[1 0 0]\n",
            " [0 1 0]\n",
            " [0 0 1]]\n",
            "\n",
            "[[1 0 0]\n",
            " [0 1 0]\n",
            " [0 0 1]]\n"
          ]
        }
      ]
    },
    {
      "cell_type": "code",
      "source": [
        "#create a 4x4 matrix\n",
        "\n",
        "\n",
        "\n",
        "r=np.array([[1,2,3,5],[2,4,6,10],[4,8,12,20],[8,16,24,40]])\n",
        "\n",
        "print(r)\n",
        "print()\n",
        "\n",
        "print(r.reshape(8,2))"
      ],
      "metadata": {
        "colab": {
          "base_uri": "https://localhost:8080/"
        },
        "id": "0d5q4J1SQsqn",
        "outputId": "5f69764b-b642-4cd8-fb54-e3d02e1f72ed"
      },
      "execution_count": null,
      "outputs": [
        {
          "output_type": "stream",
          "name": "stdout",
          "text": [
            "[[ 1  2  3  5]\n",
            " [ 2  4  6 10]\n",
            " [ 4  8 12 20]\n",
            " [ 8 16 24 40]]\n",
            "\n",
            "[[ 1  2]\n",
            " [ 3  5]\n",
            " [ 2  4]\n",
            " [ 6 10]\n",
            " [ 4  8]\n",
            " [12 20]\n",
            " [ 8 16]\n",
            " [24 40]]\n"
          ]
        }
      ]
    },
    {
      "cell_type": "code",
      "source": [
        "#arange\n",
        "\n",
        "a=np.arange(1,10,2)\n",
        "print(a)"
      ],
      "metadata": {
        "colab": {
          "base_uri": "https://localhost:8080/"
        },
        "id": "B3ded5vMSEWB",
        "outputId": "d10f064b-3731-4972-e762-5934c6c20d14"
      },
      "execution_count": null,
      "outputs": [
        {
          "output_type": "stream",
          "name": "stdout",
          "text": [
            "[1 3 5 7 9]\n"
          ]
        }
      ]
    },
    {
      "cell_type": "code",
      "source": [],
      "metadata": {
        "id": "2yscCUqMSqtA"
      },
      "execution_count": null,
      "outputs": []
    },
    {
      "cell_type": "code",
      "source": [
        "#create a 5x2 matrix using a range\n",
        "\n",
        "\n",
        "b=np.arange(1,11).reshape(5,2)\n",
        "print(b)"
      ],
      "metadata": {
        "colab": {
          "base_uri": "https://localhost:8080/"
        },
        "id": "0LuFRAbaSjF5",
        "outputId": "2608d70e-ea3d-4dcc-d666-2a63d83060cf"
      },
      "execution_count": null,
      "outputs": [
        {
          "output_type": "stream",
          "name": "stdout",
          "text": [
            "[[ 1  2]\n",
            " [ 3  4]\n",
            " [ 5  6]\n",
            " [ 7  8]\n",
            " [ 9 10]]\n"
          ]
        }
      ]
    },
    {
      "cell_type": "code",
      "source": [
        "#create 3x3 matrix having float values\n",
        "\n",
        "m=np.array([[1.5,2.2,3.3],[4.4,5.5,6.6],[7.7,8.8,9.9]])\n",
        "print(m )"
      ],
      "metadata": {
        "colab": {
          "base_uri": "https://localhost:8080/"
        },
        "id": "qcvKuxTBTNKP",
        "outputId": "002b88d8-7a80-427c-d80e-213645689692"
      },
      "execution_count": null,
      "outputs": [
        {
          "output_type": "stream",
          "name": "stdout",
          "text": [
            "[[1.5 2.2 3.3]\n",
            " [4.4 5.5 6.6]\n",
            " [7.7 8.8 9.9]]\n"
          ]
        }
      ]
    },
    {
      "cell_type": "code",
      "source": [
        "import numpy as np\n",
        "m=np.array([[1.5,2.2,3.3],[4.4,5.5,6.6],[7.7,8.8,9.9]])\n",
        "print(m )\n",
        "z=np.floor(m)\n",
        "print(z)\n",
        "\n",
        "print()\n",
        "\n",
        "print(np.ceil(m))\n",
        "\n",
        "\n",
        "print()\n",
        "\n",
        "\n",
        "print(np.round(m))"
      ],
      "metadata": {
        "colab": {
          "base_uri": "https://localhost:8080/"
        },
        "id": "OIaw1mJDUwcK",
        "outputId": "5a3a3ee5-e9cd-49e9-d008-6556f0d8db04"
      },
      "execution_count": null,
      "outputs": [
        {
          "output_type": "stream",
          "name": "stdout",
          "text": [
            "[[1.5 2.2 3.3]\n",
            " [4.4 5.5 6.6]\n",
            " [7.7 8.8 9.9]]\n",
            "[[1. 2. 3.]\n",
            " [4. 5. 6.]\n",
            " [7. 8. 9.]]\n",
            "\n",
            "[[ 2.  3.  4.]\n",
            " [ 5.  6.  7.]\n",
            " [ 8.  9. 10.]]\n",
            "\n",
            "[[ 2.  2.  3.]\n",
            " [ 4.  6.  7.]\n",
            " [ 8.  9. 10.]]\n"
          ]
        }
      ]
    },
    {
      "cell_type": "code",
      "source": [
        "import numpy as np\n",
        "m=np.array([[1.5,2.2,3.3],[4.4,5.5,6.6],[7.7,8.8,9.9]])\n",
        "print(m )\n",
        "\n",
        "x=np.max(m,axis=1)  # axis =1 ---> row\n",
        "y=np.sort(m,axis=0) # axis =0 ---> column\n",
        "print(x)\n",
        "print(y)"
      ],
      "metadata": {
        "colab": {
          "base_uri": "https://localhost:8080/"
        },
        "id": "s94Xe01DY0p-",
        "outputId": "7e17d72e-955f-4edc-e684-79a7ef95e900"
      },
      "execution_count": null,
      "outputs": [
        {
          "output_type": "stream",
          "name": "stdout",
          "text": [
            "[[1.5 2.2 3.3]\n",
            " [4.4 5.5 6.6]\n",
            " [7.7 8.8 9.9]]\n",
            "[3.3 6.6 9.9]\n",
            "[[1.5 2.2 3.3]\n",
            " [4.4 5.5 6.6]\n",
            " [7.7 8.8 9.9]]\n"
          ]
        }
      ]
    }
  ]
}